{
 "cells": [
  {
   "cell_type": "code",
   "execution_count": 2,
   "metadata": {},
   "outputs": [
    {
     "name": "stdout",
     "output_type": "stream",
     "text": [
      "Total Keuntungan: $12800.0\n",
      "Informasi Barang Setelah Penjualan:\n",
      "Laptop\n",
      "Smartphone\n",
      "Printer\n",
      "AC\n"
     ]
    }
   ],
   "source": [
    "class Barang:\n",
    "    def __init__(self, id_barang, nama, harga_beli, harga_jual, stok):\n",
    "        self.id_barang = id_barang\n",
    "        self.nama = nama\n",
    "        self.harga_beli = harga_beli\n",
    "        self.harga_jual = harga_jual\n",
    "        self.stok = stok\n",
    "\n",
    "    def beli_barang(self, jumlah):\n",
    "        self.stok += jumlah\n",
    "\n",
    "    def informasi_barang(self):\n",
    "        return f\"{self.nama}\"\n",
    "\n",
    "    def jual_barang(self, jumlah):\n",
    "        if jumlah > 10:\n",
    "            diskon = 0.1  # Diskon 10%\n",
    "        else:\n",
    "            diskon = 0\n",
    "\n",
    "        if self.stok >= jumlah:\n",
    "            total_harga = self.harga_jual * jumlah * (1 - diskon)\n",
    "            self.stok -= jumlah\n",
    "            return total_harga\n",
    "        else:\n",
    "            return \"Stok tidak mencukupi.\"\n",
    "\n",
    "class Penjualan:\n",
    "    def __init__(self):\n",
    "        self.daftar_penjualan = []\n",
    "\n",
    "    def tambah_penjualan(self, barang, jumlah):\n",
    "        total_harga = barang.jual_barang(jumlah)\n",
    "        if total_harga != \"Stok tidak mencukupi.\":\n",
    "            self.daftar_penjualan.append((barang, jumlah, total_harga))\n",
    "            return total_harga\n",
    "        else:\n",
    "            return \"Penjualan gagal: Stok tidak mencukupi.\"\n",
    "\n",
    "    def total_keuntungan(self):\n",
    "        keuntungan_total = sum(total_harga for (_, _, total_harga) in self.daftar_penjualan)\n",
    "        return keuntungan_total\n",
    "\n",
    "# Membuat objek barang\n",
    "barang1 = Barang(1, \"Laptop\", 800, 1000, 20)\n",
    "barang2 = Barang(2, \"Smartphone\", 300, 400, 15)\n",
    "barang3 = Barang(3, \"Printer\", 100, 150, 5)\n",
    "barang4 = Barang(4, \"AC\", 200, 100, 30 )\n",
    "# Membuat objek penjualan\n",
    "penjualan = Penjualan()\n",
    "\n",
    "# Menambah penjualan\n",
    "total_harga_penjualan1 = penjualan.tambah_penjualan(barang1, 12)  # Menjual 12 laptop\n",
    "total_harga_penjualan2 = penjualan.tambah_penjualan(barang2, 5)   # Menjual 5 smartphone\n",
    "\n",
    "# Menampilkan total keuntungan\n",
    "print(f\"Total Keuntungan: ${penjualan.total_keuntungan()}\")\n",
    "\n",
    "# Menampilkan informasi barang setelah penjualan\n",
    "print(\"Informasi Barang Setelah Penjualan:\")\n",
    "print(barang1.informasi_barang())\n",
    "print(barang2.informasi_barang())\n",
    "print(barang3.informasi_barang())\n",
    "print(barang4.informasi_barang())\n"
   ]
  }
 ],
 "metadata": {
  "kernelspec": {
   "display_name": "Python 3",
   "language": "python",
   "name": "python3"
  },
  "language_info": {
   "codemirror_mode": {
    "name": "ipython",
    "version": 3
   },
   "file_extension": ".py",
   "mimetype": "text/x-python",
   "name": "python",
   "nbconvert_exporter": "python",
   "pygments_lexer": "ipython3",
   "version": "3.11.6"
  }
 },
 "nbformat": 4,
 "nbformat_minor": 2
}
